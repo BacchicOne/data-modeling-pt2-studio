{
 "cells": [
  {
   "cell_type": "markdown",
   "metadata": {
    "azdata_cell_guid": "51f89f30-f316-4f65-a962-223d9a0dffa8"
   },
   "source": [
    "# Studio: Using Linear Regression to Predict Stock Prices\n",
    "\n",
    "Many investors want to know how to predict stock prices. If we could predict the price of a share, we could know when the sell and when to buy and make quite a lot of money in the process. For this studio, you work for a small investing firm who wants you to see if you can use linear regression to predict the prices of MasterCard stock based on historical stock price data.\n",
    "\n",
    "The dataset came from [Kaggle](https://www.kaggle.com/kalilurrahman/mastercard-stock-data-latest-and-updated) and the CSV is included with this notebook.\n",
    "\n",
    "## Getting Started\n",
    "\n",
    "We have imported some of the libraries you need and set up the dataframe for you. Before writing any code, read through the code cell below. We added a column to the dataframe called `'Converted Date'`. If you look at the output of using `.head()`, you will notice that the converted date is large numbers that don't seem to reflect what we know is a date. We set up this column for you to use your linear regression later because the linear regression model struggles to work with `datetime` values. "
   ]
  },
  {
   "cell_type": "code",
   "execution_count": 2,
   "metadata": {
    "azdata_cell_guid": "99f1c94f-1c20-42d7-9889-198ba0f78343"
   },
   "outputs": [],
   "source": [
    "import numpy as np\n",
    "import pandas as pd\n",
    "import matplotlib.pyplot as plt \n",
    "import seaborn as sb\n",
    "import datetime as dt\n",
    "\n",
    "\n",
    "stocks_df = pd.read_csv(\"Mastercard_stock_history.csv\")\n",
    "stocks_df['Year'] = pd.to_numeric(stocks_df['Date'].str[:4])\n",
    "stocks_df['Date'] = pd.to_datetime(stocks_df['Date'])\n",
    "stocks_df['Converted Date'] = stocks_df['Date'].map(dt.datetime.toordinal)"
   ]
  },
  {
   "cell_type": "markdown",
   "metadata": {
    "azdata_cell_guid": "e931a58a-c8d8-4a31-9856-a0550ed76f8d"
   },
   "source": [
    "## Look at Correlations\n",
    "\n",
    "Use both `pairplot()` and `heatmap()` to see if there are any correlations between the variables. You can use whatever variables you would like but when creating your pairplot, remember that the business issue we are trying to tackle is the prediction of stock prices."
   ]
  },
  {
   "cell_type": "code",
   "execution_count": 3,
   "metadata": {
    "azdata_cell_guid": "a11b7d5c-eef0-4936-a7a0-a48a26761d6d"
   },
   "outputs": [
    {
     "data": {
      "text/html": [
       "<div>\n",
       "<style scoped>\n",
       "    .dataframe tbody tr th:only-of-type {\n",
       "        vertical-align: middle;\n",
       "    }\n",
       "\n",
       "    .dataframe tbody tr th {\n",
       "        vertical-align: top;\n",
       "    }\n",
       "\n",
       "    .dataframe thead th {\n",
       "        text-align: right;\n",
       "    }\n",
       "</style>\n",
       "<table border=\"1\" class=\"dataframe\">\n",
       "  <thead>\n",
       "    <tr style=\"text-align: right;\">\n",
       "      <th></th>\n",
       "      <th>Date</th>\n",
       "      <th>Open</th>\n",
       "      <th>High</th>\n",
       "      <th>Low</th>\n",
       "      <th>Close</th>\n",
       "      <th>Volume</th>\n",
       "      <th>Dividends</th>\n",
       "      <th>Stock Splits</th>\n",
       "      <th>Year</th>\n",
       "      <th>Converted Date</th>\n",
       "    </tr>\n",
       "  </thead>\n",
       "  <tbody>\n",
       "    <tr>\n",
       "      <th>0</th>\n",
       "      <td>2006-05-25</td>\n",
       "      <td>3.748967</td>\n",
       "      <td>4.283869</td>\n",
       "      <td>3.739664</td>\n",
       "      <td>4.279217</td>\n",
       "      <td>395343000</td>\n",
       "      <td>0.0</td>\n",
       "      <td>0.0</td>\n",
       "      <td>2006</td>\n",
       "      <td>732456</td>\n",
       "    </tr>\n",
       "    <tr>\n",
       "      <th>1</th>\n",
       "      <td>2006-05-26</td>\n",
       "      <td>4.307126</td>\n",
       "      <td>4.348058</td>\n",
       "      <td>4.103398</td>\n",
       "      <td>4.179680</td>\n",
       "      <td>103044000</td>\n",
       "      <td>0.0</td>\n",
       "      <td>0.0</td>\n",
       "      <td>2006</td>\n",
       "      <td>732457</td>\n",
       "    </tr>\n",
       "    <tr>\n",
       "      <th>2</th>\n",
       "      <td>2006-05-30</td>\n",
       "      <td>4.183400</td>\n",
       "      <td>4.184330</td>\n",
       "      <td>3.986184</td>\n",
       "      <td>4.093164</td>\n",
       "      <td>49898000</td>\n",
       "      <td>0.0</td>\n",
       "      <td>0.0</td>\n",
       "      <td>2006</td>\n",
       "      <td>732461</td>\n",
       "    </tr>\n",
       "    <tr>\n",
       "      <th>3</th>\n",
       "      <td>2006-05-31</td>\n",
       "      <td>4.125723</td>\n",
       "      <td>4.219679</td>\n",
       "      <td>4.125723</td>\n",
       "      <td>4.180608</td>\n",
       "      <td>30002000</td>\n",
       "      <td>0.0</td>\n",
       "      <td>0.0</td>\n",
       "      <td>2006</td>\n",
       "      <td>732462</td>\n",
       "    </tr>\n",
       "    <tr>\n",
       "      <th>4</th>\n",
       "      <td>2006-06-01</td>\n",
       "      <td>4.179678</td>\n",
       "      <td>4.474572</td>\n",
       "      <td>4.176887</td>\n",
       "      <td>4.419686</td>\n",
       "      <td>62344000</td>\n",
       "      <td>0.0</td>\n",
       "      <td>0.0</td>\n",
       "      <td>2006</td>\n",
       "      <td>732463</td>\n",
       "    </tr>\n",
       "  </tbody>\n",
       "</table>\n",
       "</div>"
      ],
      "text/plain": [
       "        Date      Open      High       Low     Close     Volume  Dividends  \\\n",
       "0 2006-05-25  3.748967  4.283869  3.739664  4.279217  395343000        0.0   \n",
       "1 2006-05-26  4.307126  4.348058  4.103398  4.179680  103044000        0.0   \n",
       "2 2006-05-30  4.183400  4.184330  3.986184  4.093164   49898000        0.0   \n",
       "3 2006-05-31  4.125723  4.219679  4.125723  4.180608   30002000        0.0   \n",
       "4 2006-06-01  4.179678  4.474572  4.176887  4.419686   62344000        0.0   \n",
       "\n",
       "   Stock Splits  Year  Converted Date  \n",
       "0           0.0  2006          732456  \n",
       "1           0.0  2006          732457  \n",
       "2           0.0  2006          732461  \n",
       "3           0.0  2006          732462  \n",
       "4           0.0  2006          732463  "
      ]
     },
     "execution_count": 3,
     "metadata": {},
     "output_type": "execute_result"
    }
   ],
   "source": [
    "stocks_df.head()"
   ]
  },
  {
   "cell_type": "code",
   "execution_count": 5,
   "metadata": {},
   "outputs": [
    {
     "data": {
      "text/html": [
       "<div>\n",
       "<style scoped>\n",
       "    .dataframe tbody tr th:only-of-type {\n",
       "        vertical-align: middle;\n",
       "    }\n",
       "\n",
       "    .dataframe tbody tr th {\n",
       "        vertical-align: top;\n",
       "    }\n",
       "\n",
       "    .dataframe thead th {\n",
       "        text-align: right;\n",
       "    }\n",
       "</style>\n",
       "<table border=\"1\" class=\"dataframe\">\n",
       "  <thead>\n",
       "    <tr style=\"text-align: right;\">\n",
       "      <th></th>\n",
       "      <th>Open</th>\n",
       "      <th>High</th>\n",
       "      <th>Low</th>\n",
       "      <th>Close</th>\n",
       "      <th>Volume</th>\n",
       "      <th>Dividends</th>\n",
       "      <th>Stock Splits</th>\n",
       "      <th>Year</th>\n",
       "      <th>Converted Date</th>\n",
       "    </tr>\n",
       "  </thead>\n",
       "  <tbody>\n",
       "    <tr>\n",
       "      <th>count</th>\n",
       "      <td>3872.000000</td>\n",
       "      <td>3872.000000</td>\n",
       "      <td>3872.000000</td>\n",
       "      <td>3872.000000</td>\n",
       "      <td>3.872000e+03</td>\n",
       "      <td>3872.000000</td>\n",
       "      <td>3872.000000</td>\n",
       "      <td>3872.000000</td>\n",
       "      <td>3872.000000</td>\n",
       "    </tr>\n",
       "    <tr>\n",
       "      <th>mean</th>\n",
       "      <td>104.896814</td>\n",
       "      <td>105.956054</td>\n",
       "      <td>103.769349</td>\n",
       "      <td>104.882714</td>\n",
       "      <td>1.232250e+07</td>\n",
       "      <td>0.002329</td>\n",
       "      <td>0.002583</td>\n",
       "      <td>2013.583936</td>\n",
       "      <td>735265.486054</td>\n",
       "    </tr>\n",
       "    <tr>\n",
       "      <th>std</th>\n",
       "      <td>106.245511</td>\n",
       "      <td>107.303589</td>\n",
       "      <td>105.050064</td>\n",
       "      <td>106.168693</td>\n",
       "      <td>1.759665e+07</td>\n",
       "      <td>0.025851</td>\n",
       "      <td>0.160706</td>\n",
       "      <td>4.454620</td>\n",
       "      <td>1622.149194</td>\n",
       "    </tr>\n",
       "    <tr>\n",
       "      <th>min</th>\n",
       "      <td>3.748967</td>\n",
       "      <td>4.102467</td>\n",
       "      <td>3.739664</td>\n",
       "      <td>4.083861</td>\n",
       "      <td>6.411000e+05</td>\n",
       "      <td>0.000000</td>\n",
       "      <td>0.000000</td>\n",
       "      <td>2006.000000</td>\n",
       "      <td>732456.000000</td>\n",
       "    </tr>\n",
       "    <tr>\n",
       "      <th>25%</th>\n",
       "      <td>22.347203</td>\n",
       "      <td>22.637997</td>\n",
       "      <td>22.034458</td>\n",
       "      <td>22.300391</td>\n",
       "      <td>3.529475e+06</td>\n",
       "      <td>0.000000</td>\n",
       "      <td>0.000000</td>\n",
       "      <td>2010.000000</td>\n",
       "      <td>733861.750000</td>\n",
       "    </tr>\n",
       "    <tr>\n",
       "      <th>50%</th>\n",
       "      <td>70.810079</td>\n",
       "      <td>71.375896</td>\n",
       "      <td>70.224002</td>\n",
       "      <td>70.856083</td>\n",
       "      <td>5.891750e+06</td>\n",
       "      <td>0.000000</td>\n",
       "      <td>0.000000</td>\n",
       "      <td>2014.000000</td>\n",
       "      <td>735267.500000</td>\n",
       "    </tr>\n",
       "    <tr>\n",
       "      <th>75%</th>\n",
       "      <td>147.688448</td>\n",
       "      <td>148.645373</td>\n",
       "      <td>146.822013</td>\n",
       "      <td>147.688438</td>\n",
       "      <td>1.319775e+07</td>\n",
       "      <td>0.000000</td>\n",
       "      <td>0.000000</td>\n",
       "      <td>2017.000000</td>\n",
       "      <td>736668.250000</td>\n",
       "    </tr>\n",
       "    <tr>\n",
       "      <th>max</th>\n",
       "      <td>392.653890</td>\n",
       "      <td>400.521479</td>\n",
       "      <td>389.747812</td>\n",
       "      <td>394.685730</td>\n",
       "      <td>3.953430e+08</td>\n",
       "      <td>0.440000</td>\n",
       "      <td>10.000000</td>\n",
       "      <td>2021.000000</td>\n",
       "      <td>738074.000000</td>\n",
       "    </tr>\n",
       "  </tbody>\n",
       "</table>\n",
       "</div>"
      ],
      "text/plain": [
       "              Open         High          Low        Close        Volume  \\\n",
       "count  3872.000000  3872.000000  3872.000000  3872.000000  3.872000e+03   \n",
       "mean    104.896814   105.956054   103.769349   104.882714  1.232250e+07   \n",
       "std     106.245511   107.303589   105.050064   106.168693  1.759665e+07   \n",
       "min       3.748967     4.102467     3.739664     4.083861  6.411000e+05   \n",
       "25%      22.347203    22.637997    22.034458    22.300391  3.529475e+06   \n",
       "50%      70.810079    71.375896    70.224002    70.856083  5.891750e+06   \n",
       "75%     147.688448   148.645373   146.822013   147.688438  1.319775e+07   \n",
       "max     392.653890   400.521479   389.747812   394.685730  3.953430e+08   \n",
       "\n",
       "         Dividends  Stock Splits         Year  Converted Date  \n",
       "count  3872.000000   3872.000000  3872.000000     3872.000000  \n",
       "mean      0.002329      0.002583  2013.583936   735265.486054  \n",
       "std       0.025851      0.160706     4.454620     1622.149194  \n",
       "min       0.000000      0.000000  2006.000000   732456.000000  \n",
       "25%       0.000000      0.000000  2010.000000   733861.750000  \n",
       "50%       0.000000      0.000000  2014.000000   735267.500000  \n",
       "75%       0.000000      0.000000  2017.000000   736668.250000  \n",
       "max       0.440000     10.000000  2021.000000   738074.000000  "
      ]
     },
     "execution_count": 5,
     "metadata": {},
     "output_type": "execute_result"
    }
   ],
   "source": [
    "stocks_df.describe()"
   ]
  },
  {
   "cell_type": "code",
   "execution_count": 8,
   "metadata": {
    "azdata_cell_guid": "504d3ce1-c478-441d-8d85-f036361a2d28",
    "tags": [
     "hide_input"
    ]
   },
   "outputs": [
    {
     "name": "stderr",
     "output_type": "stream",
     "text": [
      "C:\\Users\\John\\anaconda3\\lib\\site-packages\\seaborn\\axisgrid.py:2076: UserWarning: The `size` parameter has been renamed to `height`; please update your code.\n",
      "  warnings.warn(msg, UserWarning)\n"
     ]
    },
    {
     "data": {
      "image/png": "[encoded data removed]",
      "text/plain": [
       "<Figure size 400x800 with 2 Axes>"
      ]
     },
     "metadata": {},
     "output_type": "display_data"
    }
   ],
   "source": [
    "sb.pairplot(stocks_df, x_vars=['Converted Date'], \n",
    "             y_vars=['High', 'Low'], size=4, aspect=1, kind='scatter')\n",
    "plt.show()"
   ]
  },
  {
   "cell_type": "code",
   "execution_count": null,
   "metadata": {},
   "outputs": [],
   "source": []
  },
  {
   "cell_type": "markdown",
   "metadata": {
    "azdata_cell_guid": "7bcc9331-899c-4fad-ab7f-b136a33156a5"
   },
   "source": [
    "## Build Your Model\n",
    "\n",
    "Now you are ready to build your model. First, assign your x- and y-variables."
   ]
  },
  {
   "cell_type": "code",
   "execution_count": 56,
   "metadata": {
    "azdata_cell_guid": "ed3d5f69-a714-4ebe-8d44-ce1c091b6558"
   },
   "outputs": [],
   "source": []
  },
  {
   "cell_type": "markdown",
   "metadata": {
    "azdata_cell_guid": "9576ac76-288d-470e-8eb6-aae4e6af6cf1"
   },
   "source": [
    "Use the code cells below to create your testing and training sets and output two of your sets to ensure that everything is working."
   ]
  },
  {
   "cell_type": "code",
   "execution_count": 56,
   "metadata": {
    "azdata_cell_guid": "5ef88acf-6429-4c93-8169-f96ad93d02f8"
   },
   "outputs": [],
   "source": []
  },
  {
   "cell_type": "code",
   "execution_count": 56,
   "metadata": {
    "azdata_cell_guid": "51ab0944-156d-4b7b-88e6-f2a551815bb9",
    "tags": []
   },
   "outputs": [],
   "source": []
  },
  {
   "cell_type": "markdown",
   "metadata": {
    "azdata_cell_guid": "818fbcf9-d5a2-4c62-b6c7-4ed6a1e4c746"
   },
   "source": [
    "With your training and testing sets ready to go, create your linear regression model. Use `summary()` to see how the model went."
   ]
  },
  {
   "cell_type": "code",
   "execution_count": 56,
   "metadata": {
    "azdata_cell_guid": "82387870-7378-4724-b121-22a5b4c91bf6"
   },
   "outputs": [],
   "source": []
  },
  {
   "cell_type": "markdown",
   "metadata": {
    "azdata_cell_guid": "bbc67ef5-5858-40b1-a398-17f1c0c5d323"
   },
   "source": [
    "Create a plot that shows your training sets and the linear regression line. Remember to use the values outputted above by `summary()` to make the line."
   ]
  },
  {
   "cell_type": "code",
   "execution_count": 56,
   "metadata": {
    "azdata_cell_guid": "d70713c3-0691-4171-ad69-3cb4f8943867"
   },
   "outputs": [],
   "source": []
  },
  {
   "cell_type": "markdown",
   "metadata": {
    "azdata_cell_guid": "bb482f11-75d1-46c0-831c-56c177eeeb77"
   },
   "source": [
    "## Error Terms\n",
    "\n",
    "With your model built, time to look at the error terms. Use the code cell below to create the residuals with the predicted y-variable and the y training set."
   ]
  },
  {
   "cell_type": "code",
   "execution_count": 56,
   "metadata": {
    "azdata_cell_guid": "415ac496-8d14-4c68-910d-56d7a650c8d0"
   },
   "outputs": [],
   "source": []
  },
  {
   "cell_type": "markdown",
   "metadata": {
    "azdata_cell_guid": "c03c38bb-3597-4f5f-895c-bc4e556ac779"
   },
   "source": [
    "Now plot the residuals. Did you get a bell curve?"
   ]
  },
  {
   "cell_type": "code",
   "execution_count": 56,
   "metadata": {
    "azdata_cell_guid": "0967b60a-dea6-4790-bc71-93e8ba2ce15a"
   },
   "outputs": [],
   "source": []
  },
  {
   "cell_type": "markdown",
   "metadata": {
    "azdata_cell_guid": "da824761-aa74-47f3-a9f2-ba5f4faf01a8"
   },
   "source": [
    "## Summarize Your Work\n",
    "\n",
    "Take some time to reflect on your linear regression model. Make note of your answers to the following questions.\n",
    "\n",
    "1. When using a linear regression model to analyze financial data, getting an R-squared value above 0.7 is considered excellent. Was your R-squared value higher than this threshold?\n",
    "2. Based on your analysis, would you recommend that linear regression be used to predict the price of Mastercard shares? "
   ]
  }
 ],
 "metadata": {
  "kernelspec": {
   "display_name": "Python 3 (ipykernel)",
   "language": "python",
   "name": "python3"
  },
  "language_info": {
   "codemirror_mode": {
    "name": "ipython",
    "version": 3
   },
   "file_extension": ".py",
   "mimetype": "text/x-python",
   "name": "python",
   "nbconvert_exporter": "python",
   "pygments_lexer": "ipython3",
   "version": "3.9.13"
  }
 },
 "nbformat": 4,
 "nbformat_minor": 2
}
